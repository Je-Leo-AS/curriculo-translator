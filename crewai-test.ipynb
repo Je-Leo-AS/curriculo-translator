{
 "cells": [
  {
   "cell_type": "code",
   "execution_count": null,
   "id": "25a31a84",
   "metadata": {},
   "outputs": [],
   "source": [
    "from dotenv import load_dotenv, find_dotenv\n",
    "load_dotenv(find_dotenv())\n",
    "\n",
    "from crewai import Agent, Task, Crew\n",
    "from crewai_tools.tools import FileReadTool \n",
    "\n",
    "\n",
    "import os\n",
    "\n",
    "OPENAI_API_KEY = os.getenv(\"OPENAI_API_KEY\")\n"
   ]
  },
  {
   "cell_type": "code",
   "execution_count": null,
   "id": "e015808c",
   "metadata": {},
   "outputs": [],
   "source": [
    "import os\n",
    "from git import Repo\n",
    "\n",
    "# Configurações do repositório\n",
    "REPO_URL = \"git@github.com:Je-Leo-AS/Curriculo.git\"  # URL SSH do repositório\n",
    "RESUME_DIR = os.path.join(os.getcwd(), \"resume\")\n",
    "SSH_KEY_PATH = os.path.expanduser(\"~/.ssh/id_git\")  # Caminho para sua chave privada SSH\n",
    "BRANCH = \"EN\"\n",
    "\n",
    "def setup_ssh_auth():\n",
    "    \"\"\"Configura autenticação SSH para Git.\"\"\"\n",
    "    os.environ[\"GIT_SSH_COMMAND\"] = f\"ssh -i {SSH_KEY_PATH}\"\n",
    "\n",
    "setup_ssh_auth()\n",
    "\n",
    "# Clonar o repositório\n",
    "if not os.path.exists(os.path.join(RESUME_DIR, \".git\")):\n",
    "    Repo.clone_from(REPO_URL, RESUME_DIR)\n",
    "else:\n",
    "    print(f\"Repositório já existe em {RESUME_DIR}, pulando clonagem.\")\n",
    "\n",
    "# Carregar o repositório\n",
    "repo = Repo(RESUME_DIR)\n",
    "\n",
    "\n"
   ]
  },
  {
   "cell_type": "code",
   "execution_count": null,
   "id": "2f29b154",
   "metadata": {},
   "outputs": [],
   "source": [
    "curriculo_translated_md = 'curriculo.md'\n",
    "file_typst = os.path.join(RESUME_DIR, 'main.typ')\n",
    "\n",
    "output_md = os.path.join(os.getcwd(),curriculo_translated_md)\n",
    "orig_file_tool = FileReadTool(file_typst)\n",
    "typst_reader_agent = Agent(\n",
    "    role=\"Leitor de arquivo .typ\",\n",
    "    goal=\"Ler o arquivo main.typ e identificar todo conteúdo relevante de curriulo nele como experiências etc. Escrever esse conteudo em forma de markdown \",\n",
    "    backstory=\"Você é um especialista em análise de documentos typst, capaz de identificar e extrair texto em português de arquivos .typ com precisão.\",\n",
    "    tools=[orig_file_tool]\n",
    ")\n",
    "\n",
    "# Agente tradutor\n",
    "\n",
    "translator_agent = Agent(\n",
    "    role=\"Tradutor\",\n",
    "    goal=\"Pegar toda as partes em português do meu arquivo e traduzir para o inglês\",\n",
    "    backstory=\"Você é um tradutor experiente, capaz de traduzir de forma clara e conciza textos de portugues para ingles mantendo o tom formal.\",\n",
    ")\n",
    "\n",
    "typst_reader_task = Task(\n",
    "    description='ler e identificar os textos em portugues do arquivo em typst',\n",
    "    expected_output='todo o conteudo texto em portugues',\n",
    "    agent=typst_reader_agent,\n",
    ")\n",
    "\n",
    "translator_task = Task(\n",
    "    description='tradutor de português para ingles',\n",
    "    expected_output='todo o conteudo texto em portugues traduzido para inglês',\n",
    "    agent=translator_agent,\n",
    "    output_file=curriculo_translated_md\n",
    ")\n",
    "\n",
    "# Assemble a crew with planning enabled\n",
    "crew = Crew(\n",
    "    agents=[typst_reader_agent, translator_agent],\n",
    "    tasks=[typst_reader_task, translator_task],\n",
    "    verbose=True,\n",
    "    planning=True,  # Enable planning feature\n",
    ")\n",
    "\n"
   ]
  },
  {
   "cell_type": "code",
   "execution_count": null,
   "id": "c92da6ce",
   "metadata": {},
   "outputs": [],
   "source": [
    "# Executar a equipe\n",
    "result = crew.kickoff()"
   ]
  },
  {
   "cell_type": "code",
   "execution_count": null,
   "id": "1e7b7caa",
   "metadata": {},
   "outputs": [],
   "source": [
    "# Agente leitor de arquivos .tex e Markdown\n",
    "translated_file_tool = FileReadTool(output_md)\n",
    "\n",
    "reader_agent = Agent(\n",
    "    role=\"Leitor de arquivos\",\n",
    "    goal=\"Ler o arquivo main.typ e curriculo.md para identificar seus conteúdos\",\n",
    "    backstory=\"Especialista em análise de documentos typst e Markdown, capaz de extrair e comparar conteúdos em idiomas diferentes com precisão.\" ,\n",
    "    tools=[orig_file_tool, translated_file_tool], \n",
    ")\n",
    "\n",
    "# Agente substituidor\n",
    "converter_agent = Agent(\n",
    "    role=\"Escritor documento typst\",\n",
    "    goal=\"converter o arquivo markdown typst seguindo o modelo do arquivo original substituindo o conteudo em portugues\",\n",
    "    backstory=\"Especialista em manipulação de documentos typst capaz de identificar trechos de conteudo e estrutura de um arquivo typst.\"\n",
    ")\n",
    "\n",
    "# Task para ler os arquivos\n",
    "reader_task = Task(\n",
    "    description=\"Ler o arquivo main.typ e curriculo.md para identificar os conteúdos\",\n",
    "    expected_output=\"Conteúdo completo do arquivo .typ e do arquivo Markdown\",\n",
    "    agent=reader_agent\n",
    ")\n",
    "\n",
    "\n",
    "# Task para substituir trechos\n",
    "replacer_task = Task(\n",
    "    description=\"Escreve um arquivo typst do meu curriculo, traduzido pro ingles, com todo conteudo do arquivo markdown em inglês porem seguindo o modelo do arquivo orginal typ\",\n",
    "    expected_output=\"Arquivo .typ com todo o conteudo do arquivo markdown seguindo o mesmo modelo do arquivo typst original,. lembre-se de escrever somente o conteudo do curriculo mais nenhuma menssagem como ```typ ... ``` e qualquer outra coisa que nao seja o conteudo do curriculo\",\n",
    "    agent=converter_agent,\n",
    "    context=[reader_task],\n",
    "    output_file='main.typ'\n",
    ")\n",
    "\n",
    "# Criar o crew\n",
    "crew2 = Crew(\n",
    "    agents=[reader_agent, converter_agent],\n",
    "    tasks=[reader_task, replacer_task],\n",
    "    verbose=True,\n",
    "    planning=True\n",
    ")\n"
   ]
  },
  {
   "cell_type": "code",
   "execution_count": null,
   "id": "dd58bd48",
   "metadata": {},
   "outputs": [],
   "source": [
    "result = crew2.kickoff()"
   ]
  },
  {
   "cell_type": "code",
   "execution_count": null,
   "id": "924b5133",
   "metadata": {},
   "outputs": [],
   "source": [
    "import subprocess\n",
    "import shutil\n",
    "\n",
    "# Verificar se a branch existe\n",
    "remote_branch = f\"origin/{BRANCH}\"\n",
    "if remote_branch not in [ref.name for ref in repo.references]:\n",
    "    raise ValueError(f\"A branch remota {remote_branch} não existe no repositório.\")\n",
    "\n",
    "repo.git.checkout(remote_branch)\n",
    "\n",
    "shutil.move('./main.typ', file_typst)\n",
    "\n",
    "\n",
    "def compile_typst(input_file):\n",
    "    \"\"\"Compila o arquivo Typst em PDF.\"\"\"\n",
    "    try:\n",
    "        subprocess.run(\n",
    "            [\"typst\", \"compile\", input_file],\n",
    "            check=True,\n",
    "            text=True,\n",
    "            capture_output=True\n",
    "        )\n",
    "        output_file = input_file.replace('.typ', '.pdf')\n",
    "        print(f\"Arquivo compilado com sucesso: {output_file}\")\n",
    "    except subprocess.CalledProcessError as e:\n",
    "        print(f\"Erro ao compilar: {e.stderr}\")\n",
    "        raise\n",
    "    except FileNotFoundError:\n",
    "        print(\"Erro: Typst CLI não encontrado. Instale com 'typst --version'.\")\n",
    "        raise\n",
    "\n",
    "compile_typst(file_typst)\n"
   ]
  },
  {
   "cell_type": "code",
   "execution_count": null,
   "id": "b988a0b9",
   "metadata": {},
   "outputs": [],
   "source": [
    "if not repo.is_dirty(untracked_files=True):\n",
    "    print(\"Nenhuma mudança para commitar.\")\n",
    "    \n",
    "else:\n",
    "    # Adicionar todas as mudanças (arquivos modificados e novos)\n",
    "    repo.git.add(all=True)\n",
    "    print(\"Arquivos adicionados ao índice do Git.\")\n",
    "\n",
    "    # Criar commit\n",
    "    repo.git.commit(m=\"Atualiza arquivos na branch EN\")\n",
    "    print(\"Commit criado com sucesso.\")\n"
   ]
  },
  {
   "cell_type": "code",
   "execution_count": null,
   "id": "3f098141",
   "metadata": {},
   "outputs": [],
   "source": [
    "# Fazer push para a branch remota\n",
    "repo.git.push('origin', f'HEAD:{BRANCH}')\n",
    "print(f\"Alterações enviadas para a branch {BRANCH} no repositório remoto.\")"
   ]
  },
  {
   "cell_type": "code",
   "execution_count": null,
   "id": "12731bd5",
   "metadata": {},
   "outputs": [
    {
     "ename": "FileNotFoundError",
     "evalue": "[Errno 2] No such file or directory: '/home/je/Code/curriculo-automation/resume'",
     "output_type": "error",
     "traceback": [
      "\u001b[31m---------------------------------------------------------------------------\u001b[39m",
      "\u001b[31mFileNotFoundError\u001b[39m                         Traceback (most recent call last)",
      "\u001b[36mCell\u001b[39m\u001b[36m \u001b[39m\u001b[32mIn[28]\u001b[39m\u001b[32m, line 2\u001b[39m\n\u001b[32m      1\u001b[39m os.remove(output_md)\n\u001b[32m----> \u001b[39m\u001b[32m2\u001b[39m \u001b[43mshutil\u001b[49m\u001b[43m.\u001b[49m\u001b[43mrmtree\u001b[49m\u001b[43m(\u001b[49m\u001b[43mRESUME_DIR\u001b[49m\u001b[43m)\u001b[49m\n",
      "\u001b[36mFile \u001b[39m\u001b[32m~/.conda/envs/crewai-env/lib/python3.11/shutil.py:742\u001b[39m, in \u001b[36mrmtree\u001b[39m\u001b[34m(path, ignore_errors, onerror, dir_fd)\u001b[39m\n\u001b[32m    740\u001b[39m     orig_st = os.lstat(path, dir_fd=dir_fd)\n\u001b[32m    741\u001b[39m \u001b[38;5;28;01mexcept\u001b[39;00m \u001b[38;5;167;01mException\u001b[39;00m:\n\u001b[32m--> \u001b[39m\u001b[32m742\u001b[39m     \u001b[43monerror\u001b[49m\u001b[43m(\u001b[49m\u001b[43mos\u001b[49m\u001b[43m.\u001b[49m\u001b[43mlstat\u001b[49m\u001b[43m,\u001b[49m\u001b[43m \u001b[49m\u001b[43mpath\u001b[49m\u001b[43m,\u001b[49m\u001b[43m \u001b[49m\u001b[43msys\u001b[49m\u001b[43m.\u001b[49m\u001b[43mexc_info\u001b[49m\u001b[43m(\u001b[49m\u001b[43m)\u001b[49m\u001b[43m)\u001b[49m\n\u001b[32m    743\u001b[39m     \u001b[38;5;28;01mreturn\u001b[39;00m\n\u001b[32m    744\u001b[39m \u001b[38;5;28;01mtry\u001b[39;00m:\n",
      "\u001b[36mFile \u001b[39m\u001b[32m~/.conda/envs/crewai-env/lib/python3.11/shutil.py:740\u001b[39m, in \u001b[36mrmtree\u001b[39m\u001b[34m(path, ignore_errors, onerror, dir_fd)\u001b[39m\n\u001b[32m    737\u001b[39m \u001b[38;5;66;03m# Note: To guard against symlink races, we use the standard\u001b[39;00m\n\u001b[32m    738\u001b[39m \u001b[38;5;66;03m# lstat()/open()/fstat() trick.\u001b[39;00m\n\u001b[32m    739\u001b[39m \u001b[38;5;28;01mtry\u001b[39;00m:\n\u001b[32m--> \u001b[39m\u001b[32m740\u001b[39m     orig_st = \u001b[43mos\u001b[49m\u001b[43m.\u001b[49m\u001b[43mlstat\u001b[49m\u001b[43m(\u001b[49m\u001b[43mpath\u001b[49m\u001b[43m,\u001b[49m\u001b[43m \u001b[49m\u001b[43mdir_fd\u001b[49m\u001b[43m=\u001b[49m\u001b[43mdir_fd\u001b[49m\u001b[43m)\u001b[49m\n\u001b[32m    741\u001b[39m \u001b[38;5;28;01mexcept\u001b[39;00m \u001b[38;5;167;01mException\u001b[39;00m:\n\u001b[32m    742\u001b[39m     onerror(os.lstat, path, sys.exc_info())\n",
      "\u001b[31mFileNotFoundError\u001b[39m: [Errno 2] No such file or directory: '/home/je/Code/curriculo-automation/resume'"
     ]
    }
   ],
   "source": [
    "shutil.rmtree(RESUME_DIR)\n",
    "os.remove(output_md)\n"
   ]
  }
 ],
 "metadata": {
  "kernelspec": {
   "display_name": "Python 3",
   "language": "python",
   "name": "python3"
  },
  "language_info": {
   "codemirror_mode": {
    "name": "ipython",
    "version": 3
   },
   "file_extension": ".py",
   "mimetype": "text/x-python",
   "name": "python",
   "nbconvert_exporter": "python",
   "pygments_lexer": "ipython3",
   "version": "3.11.13"
  }
 },
 "nbformat": 4,
 "nbformat_minor": 5
}
